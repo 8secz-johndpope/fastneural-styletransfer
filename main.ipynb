{
 "cells": [
  {
   "cell_type": "code",
   "execution_count": 1,
   "metadata": {},
   "outputs": [],
   "source": [
    "import torch as th\n",
    "import torchvision\n",
    "from utils import *\n",
    "from loss import *\n",
    "from model import *\n",
    "import numpy as np\n",
    "import matplotlib.pyplot as plt\n",
    "from torchsummary import summary\n",
    "from PIL import Image\n",
    "from dataset import COCODataset\n",
    "from torchvision import transforms\n",
    "from vgg import Vgg16"
   ]
  },
  {
   "cell_type": "code",
   "execution_count": 2,
   "metadata": {},
   "outputs": [],
   "source": [
    "model = Vgg16(requires_grad = False).cuda()\n",
    "autoencoder = TransformerNet().cuda()"
   ]
  },
  {
   "cell_type": "code",
   "execution_count": 3,
   "metadata": {},
   "outputs": [],
   "source": [
    "optim = torch.optim.Adam(autoencoder.parameters(),lr = 1e-3)\n",
    "criterion = th.nn.MSELoss()\n",
    "epochs = 2\n",
    "bs = 4\n",
    "imsize = 256\n",
    "content_weight = 1e5\n",
    "style_weight = 1e10"
   ]
  },
  {
   "cell_type": "code",
   "execution_count": 4,
   "metadata": {},
   "outputs": [],
   "source": [
    "style_transform = transforms.Compose([\n",
    "        transforms.Resize((imsize,imsize)),\n",
    "        transforms.ToTensor(),\n",
    "        transforms.Lambda(lambda x: x.mul(255))\n",
    "    ])\n",
    "\n",
    "train_transform = transforms.Compose([\n",
    "        transforms.Resize((imsize,imsize)),\n",
    "        transforms.ToTensor(),\n",
    "        transforms.Lambda(lambda x: x.mul(255))\n",
    "    \n",
    "    ])\n",
    "\n",
    "test_transform = transforms.Compose([\n",
    "        transforms.Resize((imsize,imsize)),\n",
    "        transforms.ToTensor(),\n",
    "        transforms.Lambda(lambda x: x.mul(255))\n",
    "    \n",
    "    ])\n",
    "\n",
    "style_img = Image.open('./images/skull.jpg')\n",
    "style_img = style_transform(style_img)\n",
    "style_img = style_img.unsqueeze(0).cuda()\n",
    "\n",
    "test_img = Image.open('./images/amber.jpg')\n",
    "test_img = test_transform(test_img)\n",
    "test_img = test_img.unsqueeze(0).cuda()\n",
    "trans = transforms.ToPILImage()\n",
    "\n",
    "train_ds = COCODataset(root='/home/harsh/Downloads/val2017/',transform = train_transform)\n",
    "train_dl = th.utils.data.DataLoader(train_ds,batch_size = bs)"
   ]
  },
  {
   "cell_type": "code",
   "execution_count": 5,
   "metadata": {},
   "outputs": [],
   "source": [
    "model.eval()\n",
    "autoencoder.train()\n",
    "\n",
    "style_img = style_img.repeat(bs, 1, 1, 1).cuda()\n",
    "style_features = model(normalize_batch(style_img))\n",
    "gram_style = [gram_matrix(y) for y in style_features]\n",
    "\n",
    "\n",
    "for epoch in range(epochs):\n",
    "    \n",
    "    for batch,input_img in enumerate(train_dl):\n",
    "        input_img = input_img.cuda()\n",
    "        content_loss = 0\n",
    "        style_loss = 0\n",
    "        \n",
    "        optim.zero_grad()\n",
    "        generated = autoencoder(input_img)\n",
    "    \n",
    "        gen_features = model(normalize_batch(generated))\n",
    "        input_features = model(normalize_batch(input_img))\n",
    "        \n",
    "        content_loss = criterion(gen_features.relu2_2,input_features.relu2_2)\n",
    "        for i in range(4):\n",
    "            style_loss += criterion(gram_style[i],gram_matrix(gen_features[i]))\n",
    "        content_loss *= content_weight\n",
    "        style_loss *= style_weight\n",
    "            \n",
    "        loss = content_loss + style_loss      \n",
    "        loss.backward()\n",
    "        \n",
    "        optim.step()\n",
    "        if (batch+1)%250 == 0:\n",
    "            autoencoder.eval()\n",
    "            output = autoencoder(test_img)\n",
    "            print('Saving Image test_{}_{}.jpg'.format(epoch,batch))\n",
    "            output = trans(output[0].clamp(0,255).permute(1,2,0).cpu().detach().numpy().astype(\"uint8\"))\n",
    "            output.save('./images/generated/test_{}_{}.jpg'.format(epoch,batch))\n",
    "            autoencoder.train()"
   ]
  },
  {
   "cell_type": "code",
   "execution_count": 6,
   "metadata": {},
   "outputs": [],
   "source": [
    "torch.save(autoencoder.state_dict(), './auto_skull.pth')"
   ]
  },
  {
   "cell_type": "code",
   "execution_count": 7,
   "metadata": {},
   "outputs": [
    {
     "data": {
      "text/plain": [
       "<All keys matched successfully>"
      ]
     },
     "execution_count": 7,
     "metadata": {},
     "output_type": "execute_result"
    }
   ],
   "source": [
    "autoencoder.load_state_dict(torch.load('auto_skull.pth'))"
   ]
  },
  {
   "cell_type": "code",
   "execution_count": 8,
   "metadata": {},
   "outputs": [],
   "source": [
    "def stylize(path,autoencoder):\n",
    "    test_transform = transforms.Compose([\n",
    "            transforms.Resize((1080,1080)),\n",
    "            transforms.ToTensor(),\n",
    "            transforms.Lambda(lambda x: x.mul(255))  \n",
    "        ])\n",
    "    test_img = Image.open(path)\n",
    "    test_img = test_transform(test_img)\n",
    "    test_img = test_img.unsqueeze(0).cuda()\n",
    "\n",
    "    output = autoencoder(test_img)\n",
    "    output = trans(output[0].clamp(0,255).permute(1,2,0).cpu().detach().numpy().astype(\"uint8\"))\n",
    "    output.save('./images/generated/gen.jpg')\n"
   ]
  }
 ],
 "metadata": {
  "kernelspec": {
   "display_name": "Python 3",
   "language": "python",
   "name": "python3"
  },
  "language_info": {
   "codemirror_mode": {
    "name": "ipython",
    "version": 3
   },
   "file_extension": ".py",
   "mimetype": "text/x-python",
   "name": "python",
   "nbconvert_exporter": "python",
   "pygments_lexer": "ipython3",
   "version": "3.7.8"
  }
 },
 "nbformat": 4,
 "nbformat_minor": 4
}
